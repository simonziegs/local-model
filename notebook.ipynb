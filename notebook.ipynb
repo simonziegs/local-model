{
 "cells": [
  {
   "cell_type": "code",
   "execution_count": 32,
   "metadata": {},
   "outputs": [],
   "source": [
    "# import os\n",
    "# from dotenv import load_dotenv\n",
    "\n",
    "# load_dotenv()\n",
    "\n",
    "# OPENAI_API_KEY = os.getenv(\"OPENAI_API_KEY\")\n",
    "# MODEL = \"gpt-3.5-turbo\"\n",
    "MODEL = \"mistral\""
   ]
  },
  {
   "cell_type": "code",
   "execution_count": 33,
   "metadata": {},
   "outputs": [
    {
     "data": {
      "text/plain": [
       "' Why don\\'t scientists trust atoms? Because they make up everything! \\\\*wink\\\\* (In case you were wondering, this is a play on the phrase \"can\\'t trust\" and the fact that all matter is made of atoms.)'"
      ]
     },
     "execution_count": 33,
     "metadata": {},
     "output_type": "execute_result"
    }
   ],
   "source": [
    "from langchain_community.llms import Ollama\n",
    "from langchain_community.embeddings import OllamaEmbeddings\n",
    "\n",
    "model = Ollama(model=MODEL)\n",
    "embeddings = OllamaEmbeddings(model=MODEL)\n",
    "model.invoke(\"Tell me a joke\")"
   ]
  },
  {
   "cell_type": "code",
   "execution_count": 34,
   "metadata": {},
   "outputs": [
    {
     "data": {
      "text/plain": [
       "\" Why don't some numbers ever get invited to parties?\\n\\nBecause they always quit before the functions start! (Factors!)\\n\\nA classic math-related joke for you there! Enjoy your day.\""
      ]
     },
     "execution_count": 34,
     "metadata": {},
     "output_type": "execute_result"
    }
   ],
   "source": [
    "from langchain_core.output_parsers import StrOutputParser\n",
    "\n",
    "parser = StrOutputParser()\n",
    "\n",
    "chain = model | parser\n",
    "chain.invoke(\"Tell me a joke\")"
   ]
  },
  {
   "cell_type": "code",
   "execution_count": 42,
   "metadata": {},
   "outputs": [],
   "source": [
    "from langchain_community.document_loaders import PyPDFLoader\n",
    "\n",
    "loader = PyPDFLoader(\"Allgemeine Geschäftsbedingungen SUS gmbh.pdf\")\n",
    "pages = loader.load_and_split()"
   ]
  },
  {
   "cell_type": "code",
   "execution_count": 43,
   "metadata": {},
   "outputs": [
    {
     "data": {
      "text/plain": [
       "'\" \"Answer the question based on the context below. If you can\\'t answer the question, reply \"I don\\'t know\".\" \"\" \"Context: Here is some context\" \"\" \"Question: Here is a question\" '"
      ]
     },
     "execution_count": 43,
     "metadata": {},
     "output_type": "execute_result"
    }
   ],
   "source": [
    "from langchain.prompts import PromptTemplate\n",
    "\n",
    "template = \"\"\"\" \\\n",
    "\"Answer the question based on the context below. If you can't answer the question, reply \"I don't know\".\" \\\n",
    "\"\" \\\n",
    "\"Context: {context}\" \\\n",
    "\"\" \\\n",
    "\"Question: {question}\" \\\n",
    "\"\"\"\n",
    "\n",
    "prompt = PromptTemplate.from_template(template)\n",
    "prompt.format(context=\"Here is some context\", question=\"Here is a question\")"
   ]
  },
  {
   "cell_type": "code",
   "execution_count": 44,
   "metadata": {},
   "outputs": [],
   "source": [
    "from langchain_community.vectorstores import DocArrayInMemorySearch\n",
    "\n",
    "vectorstore = DocArrayInMemorySearch.from_documents(pages, embedding=embeddings)"
   ]
  },
  {
   "cell_type": "code",
   "execution_count": 45,
   "metadata": {},
   "outputs": [],
   "source": [
    "retriever = vectorstore.as_retriever()"
   ]
  },
  {
   "cell_type": "code",
   "execution_count": 46,
   "metadata": {},
   "outputs": [
    {
     "data": {
      "text/plain": [
       "\" The provided document appears to be an Agreement with General Terms and Conditions (AGB) for a service provider (in this case, SUS GmbH). While I don't have the ability to evaluate whether these terms are common or not without comparing them to other similar agreements, some of the provisions might be considered unfavorable for the customer.\\n   For instance, the AGB grants the provider the right to charge additional fees for handling inquiries (3. Zahlungsbedingungen, point 2), to hold sensitive customer data for internal analysis and marketing purposes (4. Datennutzung und Datenschutz, points 1 and 2), and to modify these terms at any time without prior notice (7. Schlussbestimmungen, point 1). Additionally, the customer's obligation to comply with the AGB even after termination of the contract (6. Vertragsdauer und Kündigung, point 3) may also be considered unusual.\\n   To answer your question more precisely, it is difficult to say whether this particular AGB is normal or not without additional context and a comparison to similar agreements in the market. However, some of its provisions could potentially raise concerns for customers regarding their rights and obligations under the agreement.\""
      ]
     },
     "execution_count": 46,
     "metadata": {},
     "output_type": "execute_result"
    }
   ],
   "source": [
    "from operator import itemgetter\n",
    "\n",
    "chain = (\n",
    "    {\n",
    "        \"context\": itemgetter(\"question\") | retriever,\n",
    "        \"question\": itemgetter(\"question\")\n",
    "    }\n",
    "    | prompt\n",
    "    | model\n",
    "    | parser\n",
    ")\n",
    "\n",
    "chain.invoke({\"question\": \"Is this AGB normal?\"})"
   ]
  }
 ],
 "metadata": {
  "kernelspec": {
   "display_name": ".venv",
   "language": "python",
   "name": "python3"
  },
  "language_info": {
   "codemirror_mode": {
    "name": "ipython",
    "version": 3
   },
   "file_extension": ".py",
   "mimetype": "text/x-python",
   "name": "python",
   "nbconvert_exporter": "python",
   "pygments_lexer": "ipython3",
   "version": "3.13.0"
  }
 },
 "nbformat": 4,
 "nbformat_minor": 2
}
